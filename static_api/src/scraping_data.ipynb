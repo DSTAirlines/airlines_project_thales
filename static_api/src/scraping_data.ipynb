{
 "cells": [
  {
   "cell_type": "markdown",
   "id": "8da83539",
   "metadata": {
    "toc": true
   },
   "source": [
    "<h1>Table des matières<span class=\"tocSkip\"></span></h1>\n",
    "<div class=\"toc\"><ul class=\"toc-item\"><li><span><a href=\"#Scraping-wikipedia---Airports\" data-toc-modified-id=\"Scraping-wikipedia---Airports-1\">Scraping wikipedia - Airports</a></span></li><li><span><a href=\"#Scraping-wikipedia---Codes-pays-iso\" data-toc-modified-id=\"Scraping-wikipedia---Codes-pays-iso-2\">Scraping wikipedia - Codes pays iso</a></span></li><li><span><a href=\"#Scraping-wikipedia---Airlines\" data-toc-modified-id=\"Scraping-wikipedia---Airlines-3\">Scraping wikipedia - Airlines</a></span></li><li><span><a href=\"#Scraping-wikipedia---Aircrafts\" data-toc-modified-id=\"Scraping-wikipedia---Aircrafts-4\">Scraping wikipedia - Aircrafts</a></span></li></ul></div>"
   ]
  },
  {
   "cell_type": "code",
   "execution_count": 85,
   "id": "56ff49b2",
   "metadata": {},
   "outputs": [],
   "source": [
    "from urllib.request import urlopen\n",
    "from bs4 import BeautifulSoup as bs\n",
    "import string\n",
    "from time import sleep"
   ]
  },
  {
   "cell_type": "markdown",
   "id": "3086c346",
   "metadata": {},
   "source": [
    "###  Scraping wikipedia - Airports"
   ]
  },
  {
   "cell_type": "code",
   "execution_count": 58,
   "id": "f7a9e493",
   "metadata": {},
   "outputs": [],
   "source": [
    "UPPERCASE = list(string.ascii_uppercase)\n",
    "results = []\n",
    "for letter in UPPERCASE:\n",
    "    link = f\"https://en.wikipedia.org/wiki/List_of_airports_by_IATA_airport_code:_{letter}\"\n",
    "    page  = urlopen(link)\n",
    "    soup = bs(page, 'html.parser')\n",
    "    table = soup.findAll('table')[0]\n",
    "    tbody = table.find('tbody')\n",
    "    rows = tbody.findAll('tr')\n",
    "    for row in rows:\n",
    "        elements = row.findAll('td')\n",
    "        if len(elements) > 3:\n",
    "            link_ = None\n",
    "            link = elements[2].find('a')\n",
    "            if link:\n",
    "                link_ = link['href']\n",
    "            dic = {\n",
    "                \"IATA\": elements[0].text.replace(\"\\n\", \"\"),\n",
    "                \"ICAO\": elements[1].text.replace(\"\\n\", \"\"),\n",
    "                \"AirportName\": elements[2].text.replace(\"\\n\", \"\").replace(\"[1]\", \"\"),\n",
    "                \"AirportLink\": None if link_ is None else link_,\n",
    "                \"LocationServed\": elements[3].text.replace(\"\\n\", \"\"),\n",
    "            }\n",
    "            results.append(dic)\n",
    "    \n",
    "path_folder = \"data_scraping\"\n",
    "os.makedirs(path_folder, exist_ok=True)        \n",
    "with open(f'{path_folder}/airports_wiki.json', 'w', encoding='utf-8') as f:\n",
    "    json.dump(results, f, indent=2, ensure_ascii=False)"
   ]
  },
  {
   "cell_type": "markdown",
   "id": "6ed01217",
   "metadata": {},
   "source": [
    "###  Scraping wikipedia - Codes pays iso"
   ]
  },
  {
   "cell_type": "code",
   "execution_count": 82,
   "id": "d24bddf5",
   "metadata": {},
   "outputs": [],
   "source": [
    "link = \"https://en.wikipedia.org/wiki/ISO_3166-1\"\n",
    "page  = urlopen(link)\n",
    "soup = bs(page, 'html.parser')\n",
    "results = []\n",
    "table = soup.find_all('table')[1]\n",
    "tbody = table.find('tbody')\n",
    "rows = tbody.findAll('tr')\n",
    "for row in rows:\n",
    "    element = row.findAll('td')\n",
    "    if len(element) == 6:\n",
    "        country = element[0].find_all('a')[0].get_text(strip=True)\n",
    "        country_link = element[0].find_all('a')[0]['href']\n",
    "        country_flag_link = element[0].find('span', {'class': 'flagicon'}).find('img')['src']\n",
    "        alpha2_code = element[1].find_all('a')[0].get_text(strip=True)\n",
    "        alpha3_code = element[2].get_text(strip=True)\n",
    "        numeric_code = element[3].get_text(strip=True)\n",
    "        dic = {\n",
    "            \"CountryName\": country,\n",
    "            \"CountryLink\": country_link,\n",
    "            \"CountryFlag\": country_flag_link,\n",
    "            \"Alpha2Code\": alpha2_code,\n",
    "            \"Alpha3Code\": alpha3_code,\n",
    "            \"NumericCode\": numeric_code\n",
    "        }\n",
    "        results.append(dic)\n",
    "        \n",
    "path_folder = \"data_scraping\"\n",
    "os.makedirs(path_folder, exist_ok=True)        \n",
    "with open(f'{path_folder}/country_wiki.json', 'w', encoding='utf-8') as f:\n",
    "    json.dump(results, f, indent=2, ensure_ascii=False)"
   ]
  },
  {
   "cell_type": "markdown",
   "id": "0a007c3b",
   "metadata": {},
   "source": [
    "###  Scraping wikipedia - Airlines"
   ]
  },
  {
   "cell_type": "code",
   "execution_count": 99,
   "id": "ea3ebd28",
   "metadata": {},
   "outputs": [],
   "source": [
    "results = []\n",
    "link = f\"https://en.wikipedia.org/wiki/List_of_airline_codes\"\n",
    "page  = urlopen(link)\n",
    "soup = bs(page, 'html.parser')\n",
    "table = soup.findAll('table', {'class': 'wikitable'})[0]\n",
    "tbody = table.find('tbody')\n",
    "rows = tbody.findAll('tr')\n",
    "for row in rows:\n",
    "    elements = row.findAll('td')\n",
    "    if len(elements) == 6:\n",
    "        link = elements[2].find('a')\n",
    "        if link:\n",
    "            txt = link.get_text(strip=True)\n",
    "            link_ = link['href']\n",
    "            if link_.endswith('redlink=1') is False:\n",
    "                link = link_\n",
    "            else:\n",
    "                link = None\n",
    "        else:\n",
    "            txt = elements[2].get_text(strip=True)\n",
    "            link = None\n",
    "        dic = {\n",
    "            \"IATA\": elements[0].get_text(strip=True),\n",
    "            \"ICAO\": elements[1].get_text(strip=True),\n",
    "            \"Airline\": txt,\n",
    "            \"Link\": link,\n",
    "            \"CallSign\":elements[3].get_text(strip=True),\n",
    "            \"Country\": elements[4].get_text(strip=True),\n",
    "            \"Comment\": elements[5].get_text(strip=True)\n",
    "        }\n",
    "        results.append(dic)\n",
    "        \n",
    "path_folder = \"data_scraping\"\n",
    "os.makedirs(path_folder, exist_ok=True)        \n",
    "with open(f'{path_folder}/airlines_wiki.json', 'w', encoding='utf-8') as f:\n",
    "    json.dump(results, f, indent=2, ensure_ascii=False)"
   ]
  },
  {
   "cell_type": "markdown",
   "id": "5c5de46a",
   "metadata": {},
   "source": [
    "### Scraping wikipedia - Aircrafts"
   ]
  },
  {
   "cell_type": "code",
   "execution_count": 103,
   "id": "9d86d19d",
   "metadata": {},
   "outputs": [],
   "source": [
    "results = []\n",
    "link = f\"https://en.wikipedia.org/wiki/List_of_aircraft_type_designators\"\n",
    "page  = urlopen(link)\n",
    "soup = bs(page, 'html.parser')\n",
    "table = soup.findAll('table', {'class': 'wikitable'})[0]\n",
    "tbody = table.find('tbody')\n",
    "rows = tbody.findAll('tr')\n",
    "for row in rows:\n",
    "    elements = row.findAll('td')\n",
    "    if len(elements) == 3:\n",
    "        link = elements[2].find('a')\n",
    "        if link:\n",
    "            txt = link.get_text(strip=True)\n",
    "            link_ = link['href']\n",
    "            if link_.endswith('redlink=1') is False:\n",
    "                link = link_\n",
    "            else:\n",
    "                link = None\n",
    "        else:\n",
    "            txt = elements[2].get_text(strip=True)\n",
    "            link = None\n",
    "        dic = {\n",
    "            \"ICAO\": elements[0].get_text(strip=True),\n",
    "            \"IATA\": elements[1].get_text(strip=True),\n",
    "            \"MODEL\": txt,\n",
    "            \"Link\": link,\n",
    "        }\n",
    "        results.append(dic)\n",
    "\n",
    "path_folder = \"data_scraping\"\n",
    "os.makedirs(path_folder, exist_ok=True)        \n",
    "with open(f'{path_folder}/aircrafts_wiki.json', 'w', encoding='utf-8') as f:\n",
    "    json.dump(results, f, indent=2, ensure_ascii=False)"
   ]
  },
  {
   "cell_type": "code",
   "execution_count": 105,
   "id": "795c9a6c",
   "metadata": {},
   "outputs": [],
   "source": []
  },
  {
   "cell_type": "code",
   "execution_count": null,
   "id": "b93a5129",
   "metadata": {},
   "outputs": [],
   "source": []
  },
  {
   "cell_type": "code",
   "execution_count": null,
   "id": "a4d5cd86",
   "metadata": {},
   "outputs": [],
   "source": []
  }
 ],
 "metadata": {
  "hide_input": false,
  "kernelspec": {
   "display_name": "Python 3 (ipykernel)",
   "language": "python",
   "name": "python3"
  },
  "language_info": {
   "codemirror_mode": {
    "name": "ipython",
    "version": 3
   },
   "file_extension": ".py",
   "mimetype": "text/x-python",
   "name": "python",
   "nbconvert_exporter": "python",
   "pygments_lexer": "ipython3",
   "version": "3.11.0"
  },
  "toc": {
   "base_numbering": 1,
   "nav_menu": {},
   "number_sections": false,
   "sideBar": true,
   "skip_h1_title": false,
   "title_cell": "Table des matières",
   "title_sidebar": "Contenus",
   "toc_cell": true,
   "toc_position": {},
   "toc_section_display": true,
   "toc_window_display": false
  },
  "varInspector": {
   "cols": {
    "lenName": 16,
    "lenType": 16,
    "lenVar": 40
   },
   "kernels_config": {
    "python": {
     "delete_cmd_postfix": "",
     "delete_cmd_prefix": "del ",
     "library": "var_list.py",
     "varRefreshCmd": "print(var_dic_list())"
    },
    "r": {
     "delete_cmd_postfix": ") ",
     "delete_cmd_prefix": "rm(",
     "library": "var_list.r",
     "varRefreshCmd": "cat(var_dic_list()) "
    }
   },
   "types_to_exclude": [
    "module",
    "function",
    "builtin_function_or_method",
    "instance",
    "_Feature"
   ],
   "window_display": false
  }
 },
 "nbformat": 4,
 "nbformat_minor": 5
}
